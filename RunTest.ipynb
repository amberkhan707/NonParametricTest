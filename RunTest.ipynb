{
 "cells": [
  {
   "cell_type": "markdown",
   "id": "2463e3c0",
   "metadata": {},
   "source": [
    "## Run Test "
   ]
  },
  {
   "cell_type": "markdown",
   "id": "13022beb",
   "metadata": {},
   "source": [
    "Ab dekhte h koi sequence of number le rh h ya fir koi stock ka data liya ab check kr rhe h isme pattern ban rha h ya ni "
   ]
  },
  {
   "cell_type": "code",
   "execution_count": 31,
   "id": "e0ee0692",
   "metadata": {},
   "outputs": [],
   "source": [
    "import numpy as np\n",
    "import pandas as pd"
   ]
  },
  {
   "cell_type": "markdown",
   "id": "c2582f48",
   "metadata": {},
   "source": [
    "Pichle kuch dino ka stock ke data h usme pattern dekhna h"
   ]
  },
  {
   "cell_type": "code",
   "execution_count": 32,
   "id": "f880ba01",
   "metadata": {},
   "outputs": [],
   "source": [
    "A = [100, 102, 101, 103, 105, 104, 106, 107, 105, 103,102, 104, 106, 108, 107, 109, 110, 112, 111, 110,109, 108, 107, 106, 105, 104, 103, 102, 101, 100]"
   ]
  },
  {
   "cell_type": "markdown",
   "id": "77a4092d",
   "metadata": {},
   "source": [
    "1. is data ka median nikale\n",
    "2. fir data me se median ko hataya \n",
    "3. aur fir jo data median se chota h usko 1 kiya aur jo bada h usko 0"
   ]
  },
  {
   "cell_type": "code",
   "execution_count": 33,
   "id": "cc5aff11",
   "metadata": {},
   "outputs": [],
   "source": [
    "median = np.median(A)\n",
    "median\n",
    "B = [x for x in A if x!=median]\n",
    "Z = [1 if median < x else 0 for x in B]"
   ]
  },
  {
   "cell_type": "markdown",
   "id": "6129f82a",
   "metadata": {},
   "source": [
    "1. Ab ham count kr rhe h kitni br ye digits flip ho rhe h 0 to 1 me ya 1 to 0 me\n",
    "2. [0,1,1,1,0,1,1,0] -> 4 (0->1,1->0,0->1,1->0)"
   ]
  },
  {
   "cell_type": "code",
   "execution_count": 34,
   "id": "bc2eebbf",
   "metadata": {},
   "outputs": [],
   "source": [
    "\n",
    "Run = np.count_nonzero(np.diff(Z)!=0)+1"
   ]
  },
  {
   "cell_type": "markdown",
   "id": "c235cb0c",
   "metadata": {},
   "source": [
    "zero kitna h aur 1 kitna h wo count kr liya "
   ]
  },
  {
   "cell_type": "code",
   "execution_count": 35,
   "id": "f5254801",
   "metadata": {},
   "outputs": [],
   "source": [
    "n1 = np.count_nonzero(Z)\n",
    "n2 = len(Z) - n1"
   ]
  },
  {
   "cell_type": "markdown",
   "id": "3155ea7d",
   "metadata": {},
   "source": [
    "mean std aur z score nikala check krne keliye ki kya mai confidence ke saath bol skta hu ki ye pattern ban rha h data me "
   ]
  },
  {
   "cell_type": "code",
   "execution_count": 36,
   "id": "c24a10a5",
   "metadata": {},
   "outputs": [
    {
     "data": {
      "text/plain": [
       "np.float64(-3.7270137675583257)"
      ]
     },
     "execution_count": 36,
     "metadata": {},
     "output_type": "execute_result"
    }
   ],
   "source": [
    "mean = ((2*(n1*n2))/(n1+n2)) +1\n",
    "std = np.sqrt((2 * n1 * n2 * (2 * n1 * n2 - n1 - n2)) / ((n1 + n2)**2 * (n1 + n2 -1)))\n",
    "v = (Run - mean )/ std\n",
    "v"
   ]
  },
  {
   "cell_type": "markdown",
   "id": "2ae54bef",
   "metadata": {},
   "source": [
    "Here, pcal < pcrit ->  It rejects Null Hypothesis menas Data have some pattern in it "
   ]
  },
  {
   "cell_type": "code",
   "execution_count": 37,
   "id": "21d46cc1",
   "metadata": {},
   "outputs": [
    {
     "data": {
      "text/plain": [
       "np.float64(0.0001937618782905659)"
      ]
     },
     "execution_count": 37,
     "metadata": {},
     "output_type": "execute_result"
    }
   ],
   "source": [
    "from scipy.stats import norm\n",
    "2*(1-norm.cdf(abs(v)))"
   ]
  },
  {
   "cell_type": "markdown",
   "id": "31971ffe",
   "metadata": {},
   "source": [
    "Yha pe library ka use krke maine run test kiya h aur manually calculated se compare kiya h "
   ]
  },
  {
   "cell_type": "code",
   "execution_count": 38,
   "id": "b17951a7",
   "metadata": {},
   "outputs": [
    {
     "name": "stdout",
     "output_type": "stream",
     "text": [
      "-3.7270137675583266 0.00019376187829063792\n"
     ]
    }
   ],
   "source": [
    "import statsmodels.api as sm\n",
    "z,pvalue = sm.stats.runstest_1samp(Z,correction=False)\n",
    "print(z,pvalue)"
   ]
  },
  {
   "cell_type": "markdown",
   "id": "398f6b43",
   "metadata": {},
   "source": [
    "Maanually and with Library also same result came means it is correct"
   ]
  },
  {
   "cell_type": "code",
   "execution_count": 39,
   "id": "4795dba5",
   "metadata": {},
   "outputs": [],
   "source": [
    "data = [1, 4, 1, 5, 9, 2, 6, 5, 3, 5, 8, 9, 7, 9, 3, 2, 6, 4, 3]"
   ]
  },
  {
   "cell_type": "code",
   "execution_count": 40,
   "id": "861c95e0",
   "metadata": {},
   "outputs": [
    {
     "data": {
      "text/plain": [
       "(np.float64(-0.46106142730828453), np.float64(0.6447545346967509))"
      ]
     },
     "execution_count": 40,
     "metadata": {},
     "output_type": "execute_result"
    }
   ],
   "source": [
    "import statsmodels.api as sm\n",
    "sm.stats.runstest_1samp(data)\n"
   ]
  },
  {
   "cell_type": "code",
   "execution_count": null,
   "id": "dfc1119a",
   "metadata": {},
   "outputs": [],
   "source": []
  }
 ],
 "metadata": {
  "kernelspec": {
   "display_name": "Python 3",
   "language": "python",
   "name": "python3"
  },
  "language_info": {
   "codemirror_mode": {
    "name": "ipython",
    "version": 3
   },
   "file_extension": ".py",
   "mimetype": "text/x-python",
   "name": "python",
   "nbconvert_exporter": "python",
   "pygments_lexer": "ipython3",
   "version": "3.13.0"
  }
 },
 "nbformat": 4,
 "nbformat_minor": 5
}
