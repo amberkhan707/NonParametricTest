{
 "cells": [
  {
   "cell_type": "markdown",
   "id": "7151cfa2",
   "metadata": {},
   "source": [
    "## MannWhitneyU Test "
   ]
  },
  {
   "cell_type": "markdown",
   "id": "c077838a",
   "metadata": {},
   "source": [
    "Ye bs two array/observations ko compare krne keliye kaam krte h "
   ]
  },
  {
   "cell_type": "code",
   "execution_count": 18,
   "id": "72f23138",
   "metadata": {},
   "outputs": [],
   "source": [
    "import numpy as np \n",
    "import pandas as pd "
   ]
  },
  {
   "cell_type": "markdown",
   "id": "1394149d",
   "metadata": {},
   "source": [
    "1. I have two Strategy i have no idea which distribution they follow \n",
    "2. I want to check -> is any among two  have significant edge over other ??\n",
    "3. Ho -> Both folows same distribution means both strategy is giving similar return different is just of random "
   ]
  },
  {
   "cell_type": "code",
   "execution_count": 19,
   "id": "e96dd0fe",
   "metadata": {},
   "outputs": [
    {
     "data": {
      "text/html": [
       "<div>\n",
       "<style scoped>\n",
       "    .dataframe tbody tr th:only-of-type {\n",
       "        vertical-align: middle;\n",
       "    }\n",
       "\n",
       "    .dataframe tbody tr th {\n",
       "        vertical-align: top;\n",
       "    }\n",
       "\n",
       "    .dataframe thead th {\n",
       "        text-align: right;\n",
       "    }\n",
       "</style>\n",
       "<table border=\"1\" class=\"dataframe\">\n",
       "  <thead>\n",
       "    <tr style=\"text-align: right;\">\n",
       "      <th></th>\n",
       "      <th>0</th>\n",
       "      <th>1</th>\n",
       "      <th>2</th>\n",
       "      <th>3</th>\n",
       "      <th>4</th>\n",
       "      <th>5</th>\n",
       "      <th>6</th>\n",
       "      <th>7</th>\n",
       "      <th>8</th>\n",
       "      <th>9</th>\n",
       "      <th>...</th>\n",
       "      <th>40</th>\n",
       "      <th>41</th>\n",
       "      <th>42</th>\n",
       "      <th>43</th>\n",
       "      <th>44</th>\n",
       "      <th>45</th>\n",
       "      <th>46</th>\n",
       "      <th>47</th>\n",
       "      <th>48</th>\n",
       "      <th>49</th>\n",
       "    </tr>\n",
       "  </thead>\n",
       "  <tbody>\n",
       "    <tr>\n",
       "      <th>0</th>\n",
       "      <td>3.749080</td>\n",
       "      <td>4.901429</td>\n",
       "      <td>4.463988</td>\n",
       "      <td>4.197317</td>\n",
       "      <td>3.312037</td>\n",
       "      <td>3.311989</td>\n",
       "      <td>3.116167</td>\n",
       "      <td>4.732352</td>\n",
       "      <td>4.202230</td>\n",
       "      <td>4.416145</td>\n",
       "      <td>...</td>\n",
       "      <td>3.244076</td>\n",
       "      <td>3.990354</td>\n",
       "      <td>3.068777</td>\n",
       "      <td>4.818641</td>\n",
       "      <td>3.517560</td>\n",
       "      <td>4.325045</td>\n",
       "      <td>3.623422</td>\n",
       "      <td>4.040136</td>\n",
       "      <td>4.093421</td>\n",
       "      <td>3.369709</td>\n",
       "    </tr>\n",
       "    <tr>\n",
       "      <th>1</th>\n",
       "      <td>5.939169</td>\n",
       "      <td>5.550266</td>\n",
       "      <td>5.878998</td>\n",
       "      <td>5.789655</td>\n",
       "      <td>5.195800</td>\n",
       "      <td>5.843748</td>\n",
       "      <td>4.176985</td>\n",
       "      <td>4.391966</td>\n",
       "      <td>4.090455</td>\n",
       "      <td>4.650661</td>\n",
       "      <td>...</td>\n",
       "      <td>4.239188</td>\n",
       "      <td>5.426490</td>\n",
       "      <td>5.521570</td>\n",
       "      <td>5.122554</td>\n",
       "      <td>5.541934</td>\n",
       "      <td>4.987591</td>\n",
       "      <td>5.045466</td>\n",
       "      <td>4.855082</td>\n",
       "      <td>4.050838</td>\n",
       "      <td>4.215783</td>\n",
       "    </tr>\n",
       "  </tbody>\n",
       "</table>\n",
       "<p>2 rows × 50 columns</p>\n",
       "</div>"
      ],
      "text/plain": [
       "         0         1         2         3         4         5         6   \\\n",
       "0  3.749080  4.901429  4.463988  4.197317  3.312037  3.311989  3.116167   \n",
       "1  5.939169  5.550266  5.878998  5.789655  5.195800  5.843748  4.176985   \n",
       "\n",
       "         7         8         9   ...        40        41        42        43  \\\n",
       "0  4.732352  4.202230  4.416145  ...  3.244076  3.990354  3.068777  4.818641   \n",
       "1  4.391966  4.090455  4.650661  ...  4.239188  5.426490  5.521570  5.122554   \n",
       "\n",
       "         44        45        46        47        48        49  \n",
       "0  3.517560  4.325045  3.623422  4.040136  4.093421  3.369709  \n",
       "1  5.541934  4.987591  5.045466  4.855082  4.050838  4.215783  \n",
       "\n",
       "[2 rows x 50 columns]"
      ]
     },
     "execution_count": 19,
     "metadata": {},
     "output_type": "execute_result"
    }
   ],
   "source": [
    "np.random.seed(42)\n",
    "df = pd.DataFrame((np.random.uniform(3,5,50),np.random.uniform(4,6,50)))\n",
    "df"
   ]
  },
  {
   "cell_type": "markdown",
   "id": "ae642f2f",
   "metadata": {},
   "source": [
    "1. x-> strategy1 with n1 observation,  \n",
    "2. y-> strategy2 with n2 observation,\n",
    "3. z-> combined both total observation is n "
   ]
  },
  {
   "cell_type": "code",
   "execution_count": 20,
   "id": "0bc5fccd",
   "metadata": {},
   "outputs": [],
   "source": [
    "x = np.array(df.iloc[:1])\n",
    "y = np.array(df.iloc[1:])\n",
    "z = np.append(x,y)\n",
    "n1 = len(x[0])\n",
    "n2 = len(y[0])\n"
   ]
  },
  {
   "cell_type": "markdown",
   "id": "c5cfb3f3",
   "metadata": {},
   "source": [
    "1. Dono strategy ko ek line me dala aur sbko rank kiya isse pta chala kisme jyada bade number h jha number same the wha average diya \n",
    "2. Dono strategy ko rank me lekr likha aur sum kiya mtlb -> jisme jyada bade number the uska sum obvious jyada ayenge "
   ]
  },
  {
   "cell_type": "code",
   "execution_count": 21,
   "id": "8e36d0ad",
   "metadata": {},
   "outputs": [],
   "source": [
    "rank = pd.Series(z).rank(method='average')\n",
    "rank1 = rank[:len(x[0])]\n",
    "rank2 = rank[len(x[0]):]\n",
    "rank1sum = rank1.sum()\n",
    "rank2sum = rank2.sum()"
   ]
  },
  {
   "cell_type": "markdown",
   "id": "bbf17bf2",
   "metadata": {},
   "source": [
    "1. Dono ka whitneyU nikala aur jiska min h uska Whitney se aage proceed kiya \n",
    "2. fir mean aur std nikala given data se \n",
    "3. fir hamne z -score nikal liya "
   ]
  },
  {
   "cell_type": "code",
   "execution_count": 26,
   "id": "d38b4ae2",
   "metadata": {},
   "outputs": [
    {
     "data": {
      "text/plain": [
       "np.float64(274.0)"
      ]
     },
     "execution_count": 26,
     "metadata": {},
     "output_type": "execute_result"
    }
   ],
   "source": [
    "U1= n1*n2 + n1*(n1+1)/2 -rank1sum\n",
    "U2 = n1*n2 + n2*(n2+1)/2 -rank2sum\n",
    "U = min(U1,U2)\n",
    "mean = n1*n2 / 2\n",
    "var = n1*n2*(n1+n2+1) / 12\n",
    "Z= (U-mean) / np.sqrt(var)\n",
    "U"
   ]
  },
  {
   "cell_type": "markdown",
   "id": "b1cb4873",
   "metadata": {},
   "source": [
    "Zscore se p value nikala hu aur fir check kiya ki pcal. jyada h ya ni pcrit. se \n",
    "2. yha pe  pcalc. > pcrit. -> means failed to reject Ho :: dono strategy similar hi h bs wo randomly alg h koi significant best ni h "
   ]
  },
  {
   "cell_type": "code",
   "execution_count": 34,
   "id": "730f134d",
   "metadata": {},
   "outputs": [
    {
     "data": {
      "text/plain": [
       "np.float64(1.7157608667162094e-11)"
      ]
     },
     "execution_count": 34,
     "metadata": {},
     "output_type": "execute_result"
    }
   ],
   "source": [
    "from scipy.stats import norm\n",
    "p_value =2* (1 - norm.cdf(abs(Z)))\n",
    "p_value"
   ]
  },
  {
   "cell_type": "markdown",
   "id": "b933bb86",
   "metadata": {},
   "source": [
    "Yha pe hamne Scipy library ka use krte WhitneyU test ka value nikala aur manual method se compare kiya \n",
    "dono Almost same h means Ho fails to reject"
   ]
  },
  {
   "cell_type": "code",
   "execution_count": 28,
   "id": "4f55d902",
   "metadata": {},
   "outputs": [
    {
     "name": "stdout",
     "output_type": "stream",
     "text": [
      "274.0 1.75687387723286e-11\n"
     ]
    }
   ],
   "source": [
    "from scipy.stats import mannwhitneyu\n",
    "Ustats, pvalue = mannwhitneyu(x[0],y[0],method='asymptotic')\n",
    "print(Ustats, pvalue)"
   ]
  },
  {
   "cell_type": "markdown",
   "id": "a6bc969c",
   "metadata": {},
   "source": [
    "Yha pe koi tie(same value repeation) ni h wrna-> tie correction apply krna padta ni to bias aata result "
   ]
  }
 ],
 "metadata": {
  "kernelspec": {
   "display_name": "Python 3",
   "language": "python",
   "name": "python3"
  },
  "language_info": {
   "codemirror_mode": {
    "name": "ipython",
    "version": 3
   },
   "file_extension": ".py",
   "mimetype": "text/x-python",
   "name": "python",
   "nbconvert_exporter": "python",
   "pygments_lexer": "ipython3",
   "version": "3.13.0"
  }
 },
 "nbformat": 4,
 "nbformat_minor": 5
}
