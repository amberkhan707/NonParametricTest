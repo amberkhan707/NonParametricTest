{
 "cells": [
  {
   "cell_type": "markdown",
   "id": "c629f032",
   "metadata": {},
   "source": [
    "## Kruskal Wallis Test"
   ]
  },
  {
   "cell_type": "markdown",
   "id": "ad8542b0",
   "metadata": {},
   "source": [
    "1. You can call it anova of non-normal distribution\n",
    "2. Basically you have 4 different strategy return and you want to see is any among 4 stands out or not "
   ]
  },
  {
   "cell_type": "code",
   "execution_count": 2,
   "id": "bc2ec139",
   "metadata": {},
   "outputs": [],
   "source": [
    "import pandas as pd \n",
    "import numpy as np"
   ]
  },
  {
   "cell_type": "markdown",
   "id": "488a4702",
   "metadata": {},
   "source": [
    "Yha pe maine 4 strategy liya h sbme kitne obsevation h wo count kiya aur total kitne observation h wo count kiya "
   ]
  },
  {
   "cell_type": "code",
   "execution_count": 3,
   "id": "3ef2d456",
   "metadata": {},
   "outputs": [],
   "source": [
    "whipsnade = [24.9, 30.8, 62.0, 128.4, 148.1, 159.1, 348.8, 348.9, 457.6]\n",
    "fota = [535.4, 558.8, 743.6, 798.6, 1093.4, 1141.2, 1261.2, 1454.8, 6997.8]\n",
    "dublin = [200.1, 220.4, 260.3, 310.5, 330.9, 400.2, 420.7, 430.3, 445.6]\n",
    "london = [1500.0, 1700.5, 1800.2, 2100.4, 2500.0, 3000.6, 3600.9, 4000.1, 5200.2]\n",
    "\n",
    "all = np.concat((whipsnade,fota,dublin,london))\n",
    "n = len(all)\n",
    "n1 = len(whipsnade)\n",
    "n2 = len(fota)\n",
    "n3 = len(dublin)\n",
    "n4 = len(london)"
   ]
  },
  {
   "cell_type": "markdown",
   "id": "9100ce7a",
   "metadata": {},
   "source": [
    "1. sbko ek line me khade krke rank kr diya hu jha pe brabr aay awha pe average liya gya \n",
    "2. fir ebko apne apne group me rank jo assigned hua h uske saath khakek sbka sum liya mtlb 4 me se kisi ek ka bhot jyada ya bhot kam hoga to alg ho skta h "
   ]
  },
  {
   "cell_type": "code",
   "execution_count": null,
   "id": "de75cb9f",
   "metadata": {},
   "outputs": [],
   "source": [
    "\n",
    "rank = pd.Series(all).rank(method='average')\n",
    "R1 = np.sum(rank[:n1])\n",
    "R2 = np.sum(rank[n1:n2+n1])\n",
    "R3 = np.sum(rank[n1+n2:n1+n2+n3])\n",
    "R4 = np.sum(rank[n1+n2+n3:])"
   ]
  },
  {
   "cell_type": "markdown",
   "id": "57491ef2",
   "metadata": {},
   "source": [
    "1. Yh ape koi mean wgehra wala scene ni hota h yha pe sidha H calculate krte h aur wo chi.sq follow hota h with k-1 degree of freedom \n",
    "2. yha pe k h wo jo 4 maine strategy liya h usme se ek minus kr do"
   ]
  },
  {
   "cell_type": "code",
   "execution_count": 5,
   "id": "f7264381",
   "metadata": {},
   "outputs": [
    {
     "data": {
      "text/plain": [
       "np.float64(29.182182182182174)"
      ]
     },
     "execution_count": 5,
     "metadata": {},
     "output_type": "execute_result"
    }
   ],
   "source": [
    "H = (12/(n*(n+1)))*((R1**2/n1)+(R2**2/n2)+(R3**2/n3)+(R4**2/n4))-3*(n+1)\n",
    "H"
   ]
  },
  {
   "cell_type": "markdown",
   "id": "be186764",
   "metadata": {},
   "source": [
    "Yha pe aapne apna p_value calc kiya -> pcalc<pcrit means this reject Ho koi ek strategy h wo alg perform kr rhi h ham 95% confidence ke aath bol skte h "
   ]
  },
  {
   "cell_type": "code",
   "execution_count": 11,
   "id": "e8e60f54",
   "metadata": {},
   "outputs": [
    {
     "data": {
      "text/plain": [
       "np.float64(2.050462230229755e-06)"
      ]
     },
     "execution_count": 11,
     "metadata": {},
     "output_type": "execute_result"
    }
   ],
   "source": [
    "from scipy.stats import chi2\n",
    "(1-chi2.cdf(abs(H),3))"
   ]
  },
  {
   "cell_type": "markdown",
   "id": "9ce6a997",
   "metadata": {},
   "source": [
    "    Maine manually Kruskal Wallis Test kita aur scipy ke library se test kiya aur answer almost same aa rhi h "
   ]
  },
  {
   "cell_type": "code",
   "execution_count": 7,
   "id": "214ca1bc",
   "metadata": {},
   "outputs": [
    {
     "data": {
      "text/plain": [
       "KruskalResult(statistic=np.float64(29.182182182182174), pvalue=np.float64(2.050462230177747e-06))"
      ]
     },
     "execution_count": 7,
     "metadata": {},
     "output_type": "execute_result"
    }
   ],
   "source": [
    "from scipy.stats import kruskal\n",
    "kruskal(whipsnade,fota,dublin,london)"
   ]
  },
  {
   "cell_type": "code",
   "execution_count": 2,
   "id": "dea3c52e",
   "metadata": {},
   "outputs": [],
   "source": [
    "math_scores = [72, 80, 83, 75]\n",
    "science_scores = [81, 74, 77]\n",
    "english_scores = [88, 82, 90, 87, 80]\n",
    "economics_scores = [74, 71, 77, 70]"
   ]
  },
  {
   "cell_type": "code",
   "execution_count": 3,
   "id": "dfdd7619",
   "metadata": {},
   "outputs": [
    {
     "data": {
      "text/plain": [
       "KruskalResult(statistic=np.float64(9.26569423929099), pvalue=np.float64(0.02595916803339659))"
      ]
     },
     "execution_count": 3,
     "metadata": {},
     "output_type": "execute_result"
    }
   ],
   "source": [
    "from scipy.stats import kruskal\n",
    "kruskal(math_scores,science_scores,english_scores,economics_scores)"
   ]
  },
  {
   "cell_type": "code",
   "execution_count": null,
   "id": "41425642",
   "metadata": {},
   "outputs": [],
   "source": []
  }
 ],
 "metadata": {
  "kernelspec": {
   "display_name": "Python 3",
   "language": "python",
   "name": "python3"
  },
  "language_info": {
   "codemirror_mode": {
    "name": "ipython",
    "version": 3
   },
   "file_extension": ".py",
   "mimetype": "text/x-python",
   "name": "python",
   "nbconvert_exporter": "python",
   "pygments_lexer": "ipython3",
   "version": "3.13.0"
  }
 },
 "nbformat": 4,
 "nbformat_minor": 5
}
