{
 "cells": [
  {
   "cell_type": "markdown",
   "id": "21be071a",
   "metadata": {},
   "source": [
    "Sign Test : Ye paired sample detect krne me help krta h \n",
    "1. Before corona and after corona \n",
    "2. positive aur negative dekhta h kon jyada h "
   ]
  },
  {
   "cell_type": "code",
   "execution_count": 5,
   "id": "fadb1978",
   "metadata": {},
   "outputs": [],
   "source": [
    "import numpy as np \n",
    "import pandas as pd"
   ]
  },
  {
   "cell_type": "markdown",
   "id": "c728a432",
   "metadata": {},
   "source": [
    "Maan le tmhare paas before corona 600 data h aur after corona 600 data h"
   ]
  },
  {
   "cell_type": "code",
   "execution_count": null,
   "id": "0d60add8",
   "metadata": {},
   "outputs": [
    {
     "data": {
      "text/html": [
       "<div>\n",
       "<style scoped>\n",
       "    .dataframe tbody tr th:only-of-type {\n",
       "        vertical-align: middle;\n",
       "    }\n",
       "\n",
       "    .dataframe tbody tr th {\n",
       "        vertical-align: top;\n",
       "    }\n",
       "\n",
       "    .dataframe thead th {\n",
       "        text-align: right;\n",
       "    }\n",
       "</style>\n",
       "<table border=\"1\" class=\"dataframe\">\n",
       "  <thead>\n",
       "    <tr style=\"text-align: right;\">\n",
       "      <th></th>\n",
       "      <th>A</th>\n",
       "      <th>B</th>\n",
       "    </tr>\n",
       "  </thead>\n",
       "  <tbody>\n",
       "    <tr>\n",
       "      <th>0</th>\n",
       "      <td>3.123620</td>\n",
       "      <td>2.506805</td>\n",
       "    </tr>\n",
       "    <tr>\n",
       "      <th>1</th>\n",
       "      <td>4.852143</td>\n",
       "      <td>2.835771</td>\n",
       "    </tr>\n",
       "    <tr>\n",
       "      <th>2</th>\n",
       "      <td>4.195982</td>\n",
       "      <td>2.531031</td>\n",
       "    </tr>\n",
       "    <tr>\n",
       "      <th>3</th>\n",
       "      <td>3.795975</td>\n",
       "      <td>2.266108</td>\n",
       "    </tr>\n",
       "    <tr>\n",
       "      <th>4</th>\n",
       "      <td>2.468056</td>\n",
       "      <td>2.361908</td>\n",
       "    </tr>\n",
       "    <tr>\n",
       "      <th>...</th>\n",
       "      <td>...</td>\n",
       "      <td>...</td>\n",
       "    </tr>\n",
       "    <tr>\n",
       "      <th>595</th>\n",
       "      <td>3.421885</td>\n",
       "      <td>4.614610</td>\n",
       "    </tr>\n",
       "    <tr>\n",
       "      <th>596</th>\n",
       "      <td>4.002673</td>\n",
       "      <td>4.920467</td>\n",
       "    </tr>\n",
       "    <tr>\n",
       "      <th>597</th>\n",
       "      <td>2.516960</td>\n",
       "      <td>4.906634</td>\n",
       "    </tr>\n",
       "    <tr>\n",
       "      <th>598</th>\n",
       "      <td>2.576867</td>\n",
       "      <td>4.248955</td>\n",
       "    </tr>\n",
       "    <tr>\n",
       "      <th>599</th>\n",
       "      <td>2.122606</td>\n",
       "      <td>2.390259</td>\n",
       "    </tr>\n",
       "  </tbody>\n",
       "</table>\n",
       "<p>600 rows × 2 columns</p>\n",
       "</div>"
      ],
      "text/plain": [
       "            A         B\n",
       "0    3.123620  2.506805\n",
       "1    4.852143  2.835771\n",
       "2    4.195982  2.531031\n",
       "3    3.795975  2.266108\n",
       "4    2.468056  2.361908\n",
       "..        ...       ...\n",
       "595  3.421885  4.614610\n",
       "596  4.002673  4.920467\n",
       "597  2.516960  4.906634\n",
       "598  2.576867  4.248955\n",
       "599  2.122606  2.390259\n",
       "\n",
       "[600 rows x 2 columns]"
      ]
     },
     "execution_count": 6,
     "metadata": {},
     "output_type": "execute_result"
    }
   ],
   "source": [
    "np.random.seed(42)\n",
    "df = pd.DataFrame((np.random.uniform(2,5,600),np.random.uniform(2,5,600)))\n",
    "df = df.transpose()\n",
    "df.columns = ['A','B']\n",
    "df"
   ]
  },
  {
   "cell_type": "markdown",
   "id": "dec1d09e",
   "metadata": {},
   "source": [
    "Ab tu defference le rha aur dekh rha h ki phle +ve jyada h ya abhi profit jyada significant h "
   ]
  },
  {
   "cell_type": "code",
   "execution_count": 7,
   "id": "a46ce98a",
   "metadata": {},
   "outputs": [],
   "source": [
    "df['Difference'] = df.A - df.B"
   ]
  },
  {
   "cell_type": "markdown",
   "id": "50b18c46",
   "metadata": {},
   "source": [
    "ab tune count kr diya +ve and -ve ko aur dekh rha itne jo numbers of data ka observation h yha ye significant h ya fir random h "
   ]
  },
  {
   "cell_type": "code",
   "execution_count": 8,
   "id": "d1ba803a",
   "metadata": {},
   "outputs": [],
   "source": [
    "positive = (df.Difference > 0).sum()\n",
    "negative = (df.Difference < 0).sum()\n",
    "n = 600\n",
    "p = 0.5\n"
   ]
  },
  {
   "cell_type": "markdown",
   "id": "7165ecd1",
   "metadata": {},
   "source": [
    "yha pe binomial ka use kiya qki either +ve h ya -ve h aur usse  p value nikal kr check kr rhe h ki 95% tk aap surety maan pa rhe ho ki data significant h "
   ]
  },
  {
   "cell_type": "code",
   "execution_count": 9,
   "id": "e22cdff1",
   "metadata": {},
   "outputs": [
    {
     "data": {
      "text/plain": [
       "np.float64(1.2866638127271401)"
      ]
     },
     "execution_count": 9,
     "metadata": {},
     "output_type": "execute_result"
    }
   ],
   "source": [
    "from scipy.stats import binom\n",
    "x = binom.cdf(positive,n,p)\n",
    "p_value = 2*x\n",
    "p_value"
   ]
  },
  {
   "cell_type": "markdown",
   "id": "2bf49c4b",
   "metadata": {},
   "source": [
    "pvalue > pcritical -> mtlb Ho fails to reject means before and after there is no significant prove that before or after corona either positive and negative is having edge"
   ]
  }
 ],
 "metadata": {
  "kernelspec": {
   "display_name": "Python 3",
   "language": "python",
   "name": "python3"
  },
  "language_info": {
   "codemirror_mode": {
    "name": "ipython",
    "version": 3
   },
   "file_extension": ".py",
   "mimetype": "text/x-python",
   "name": "python",
   "nbconvert_exporter": "python",
   "pygments_lexer": "ipython3",
   "version": "3.13.0"
  }
 },
 "nbformat": 4,
 "nbformat_minor": 5
}
